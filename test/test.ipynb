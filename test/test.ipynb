{
 "cells": [
  {
   "cell_type": "code",
   "execution_count": 24,
   "metadata": {},
   "outputs": [
    {
     "data": {
      "text/plain": [
       "['/imagespasswd.png',\n",
       " '/imagesnight.png',\n",
       " '/imagessunset.jpg',\n",
       " '/imagesdark.png',\n",
       " '/imagesdifficulty.png',\n",
       " '/imagesdrawem.png',\n",
       " '/imagesstart.png',\n",
       " '/imagesgame.png']"
      ]
     },
     "execution_count": 24,
     "metadata": {},
     "output_type": "execute_result"
    }
   ],
   "source": [
    "from pathlib import Path\n",
    "import os\n",
    "\n",
    "[f\"/images{fname}\" for fname in os.listdir(Path(\"..\",\"static\",\"images\"))]"
   ]
  },
  {
   "cell_type": "code",
   "execution_count": 25,
   "metadata": {},
   "outputs": [],
   "source": [
    "import dataclasses\n",
    "class Adic:\n",
    "    def __init__(self):\n",
    "        self.a = 31\n",
    "        self.b = 72"
   ]
  },
  {
   "cell_type": "code",
   "execution_count": 26,
   "metadata": {},
   "outputs": [],
   "source": [
    "adic = Adic()"
   ]
  },
  {
   "cell_type": "code",
   "execution_count": 27,
   "metadata": {},
   "outputs": [],
   "source": [
    "property_names=[p for p in dir(adic = Adic) if isinstance(getattr(adic = Adic,p),property)]"
   ]
  },
  {
   "cell_type": "code",
   "execution_count": 20,
   "metadata": {},
   "outputs": [
    {
     "ename": "ValueError",
     "evalue": "dictionary update sequence element #0 has length 1; 2 is required",
     "output_type": "error",
     "traceback": [
      "\u001b[0;31m---------------------------------------------------------------------------\u001b[0m",
      "\u001b[0;31mValueError\u001b[0m                                Traceback (most recent call last)",
      "\u001b[1;32m/home/polyester/Desktop/Programming/phoria/test/test.ipynb Cell 4\u001b[0m in \u001b[0;36m<cell line: 1>\u001b[0;34m()\u001b[0m\n\u001b[0;32m----> <a href='vscode-notebook-cell:/home/polyester/Desktop/Programming/phoria/test/test.ipynb#W3sZmlsZQ%3D%3D?line=0'>1</a>\u001b[0m \u001b[39mdict\u001b[39;49m(adic)\n",
      "\u001b[0;31mValueError\u001b[0m: dictionary update sequence element #0 has length 1; 2 is required"
     ]
    }
   ],
   "source": [
    "dict(adic)"
   ]
  },
  {
   "cell_type": "code",
   "execution_count": 1,
   "metadata": {},
   "outputs": [
    {
     "ename": "UnicodeDecodeError",
     "evalue": "'utf-8' codec can't decode byte 0xfe in position 0: invalid start byte",
     "output_type": "error",
     "traceback": [
      "\u001b[0;31m---------------------------------------------------------------------------\u001b[0m",
      "\u001b[0;31mUnicodeDecodeError\u001b[0m                        Traceback (most recent call last)",
      "\u001b[1;32m/home/polyester/Desktop/Programming/phoria/test/test.ipynb Cell 6\u001b[0m in \u001b[0;36m<cell line: 3>\u001b[0;34m()\u001b[0m\n\u001b[1;32m      <a href='vscode-notebook-cell:/home/polyester/Desktop/Programming/phoria/test/test.ipynb#W5sZmlsZQ%3D%3D?line=0'>1</a>\u001b[0m \u001b[39mfrom\u001b[39;00m \u001b[39mpathlib\u001b[39;00m \u001b[39mimport\u001b[39;00m PosixPath\n\u001b[1;32m      <a href='vscode-notebook-cell:/home/polyester/Desktop/Programming/phoria/test/test.ipynb#W5sZmlsZQ%3D%3D?line=1'>2</a>\u001b[0m f \u001b[39m=\u001b[39m \u001b[39mopen\u001b[39m(PosixPath(\u001b[39m'\u001b[39m\u001b[39m/home/polyester/Desktop/Programming/phoria/static/images/current.txt\u001b[39m\u001b[39m'\u001b[39m),\u001b[39m\"\u001b[39m\u001b[39mr+\u001b[39m\u001b[39m\"\u001b[39m)\n\u001b[0;32m----> <a href='vscode-notebook-cell:/home/polyester/Desktop/Programming/phoria/test/test.ipynb#W5sZmlsZQ%3D%3D?line=2'>3</a>\u001b[0m tmp\u001b[39m=\u001b[39mf\u001b[39m.\u001b[39;49mread()\n\u001b[1;32m      <a href='vscode-notebook-cell:/home/polyester/Desktop/Programming/phoria/test/test.ipynb#W5sZmlsZQ%3D%3D?line=3'>4</a>\u001b[0m f\u001b[39m.\u001b[39mclose()\n",
      "File \u001b[0;32m/usr/lib/python3.10/codecs.py:322\u001b[0m, in \u001b[0;36mBufferedIncrementalDecoder.decode\u001b[0;34m(self, input, final)\u001b[0m\n\u001b[1;32m    319\u001b[0m \u001b[39mdef\u001b[39;00m \u001b[39mdecode\u001b[39m(\u001b[39mself\u001b[39m, \u001b[39minput\u001b[39m, final\u001b[39m=\u001b[39m\u001b[39mFalse\u001b[39;00m):\n\u001b[1;32m    320\u001b[0m     \u001b[39m# decode input (taking the buffer into account)\u001b[39;00m\n\u001b[1;32m    321\u001b[0m     data \u001b[39m=\u001b[39m \u001b[39mself\u001b[39m\u001b[39m.\u001b[39mbuffer \u001b[39m+\u001b[39m \u001b[39minput\u001b[39m\n\u001b[0;32m--> 322\u001b[0m     (result, consumed) \u001b[39m=\u001b[39m \u001b[39mself\u001b[39;49m\u001b[39m.\u001b[39;49m_buffer_decode(data, \u001b[39mself\u001b[39;49m\u001b[39m.\u001b[39;49merrors, final)\n\u001b[1;32m    323\u001b[0m     \u001b[39m# keep undecoded input until the next call\u001b[39;00m\n\u001b[1;32m    324\u001b[0m     \u001b[39mself\u001b[39m\u001b[39m.\u001b[39mbuffer \u001b[39m=\u001b[39m data[consumed:]\n",
      "\u001b[0;31mUnicodeDecodeError\u001b[0m: 'utf-8' codec can't decode byte 0xfe in position 0: invalid start byte"
     ]
    }
   ],
   "source": [
    "from pathlib import PosixPath\n",
    "f = open(PosixPath('/home/polyester/Desktop/Programming/phoria/static/images/current.txt'),\"r+\",encoding='utf8')\n",
    "tmp=f.read()\n",
    "f.close()"
   ]
  },
  {
   "cell_type": "code",
   "execution_count": null,
   "metadata": {},
   "outputs": [],
   "source": [
    "def addImages(imgList, **kwargs):\n",
    "    imgListNumbered = [None]*len(imgList)\n",
    "    prevFile = None\n",
    "    with open(Path(IMAGES_FOLDER, \"current.txt\"), \"r\") as currFile:\n",
    "        prevFile = int(currFile.read())\n",
    "    for index, fname in enumerate(imgList):\n",
    "        fileExt = fname.split(\".\")[-1]\n",
    "        newFileName = f\"{prevFile + index}.{fileExt}\"\n",
    "        shutil.copyfile(str(Path(\"test\", fname)), str(\n",
    "            Path(IMAGES_FOLDER, newFileName)))\n",
    "        imgListNumbered[index] = url_for(\n",
    "            \"static\", filename=f\"images/{newFileName}\")\n",
    "        print(imgListNumbered[index])\n",
    "    with open(Path(IMAGES_FOLDER, \"current.txt\"), \"r+\") as currFile:\n",
    "        currFile.seek(0)\n",
    "        currFile.write(str(prevFile + len(imgList)))\n",
    "        currFile.truncate()\n",
    "    db.session.add(\n",
    "        Product(\n",
    "            kwargs[\"name\"],\n",
    "            kwargs[\"price\"],\n",
    "            kwargs[\"description\"],\n",
    "            imgListNumbered,\n",
    "            kwargs[\"itemsInStock\"],\n",
    "        )\n",
    "    )"
   ]
  }
 ],
 "metadata": {
  "kernelspec": {
   "display_name": "Python 3.10.5 ('webtools')",
   "language": "python",
   "name": "python3"
  },
  "language_info": {
   "codemirror_mode": {
    "name": "ipython",
    "version": 3
   },
   "file_extension": ".py",
   "mimetype": "text/x-python",
   "name": "python",
   "nbconvert_exporter": "python",
   "pygments_lexer": "ipython3",
   "version": "3.10.5"
  },
  "orig_nbformat": 4,
  "vscode": {
   "interpreter": {
    "hash": "81090abff65a9716117c8da2cde6904bd45643a694aec6f1070f5c034134adc0"
   }
  }
 },
 "nbformat": 4,
 "nbformat_minor": 2
}
